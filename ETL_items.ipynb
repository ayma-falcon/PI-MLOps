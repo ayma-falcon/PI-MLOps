{
 "cells": [
  {
   "cell_type": "code",
   "execution_count": 1,
   "metadata": {},
   "outputs": [],
   "source": [
    "import pandas as pd\n",
    "import os\n",
    "import ast"
   ]
  },
  {
   "cell_type": "code",
   "execution_count": 11,
   "metadata": {},
   "outputs": [
    {
     "data": {
      "text/html": [
       "<div>\n",
       "<style scoped>\n",
       "    .dataframe tbody tr th:only-of-type {\n",
       "        vertical-align: middle;\n",
       "    }\n",
       "\n",
       "    .dataframe tbody tr th {\n",
       "        vertical-align: top;\n",
       "    }\n",
       "\n",
       "    .dataframe thead th {\n",
       "        text-align: right;\n",
       "    }\n",
       "</style>\n",
       "<table border=\"1\" class=\"dataframe\">\n",
       "  <thead>\n",
       "    <tr style=\"text-align: right;\">\n",
       "      <th></th>\n",
       "      <th>user_id</th>\n",
       "      <th>items_count</th>\n",
       "      <th>steam_id</th>\n",
       "      <th>items</th>\n",
       "    </tr>\n",
       "  </thead>\n",
       "  <tbody>\n",
       "    <tr>\n",
       "      <th>0</th>\n",
       "      <td>76561197970982479</td>\n",
       "      <td>277</td>\n",
       "      <td>76561197970982479</td>\n",
       "      <td>[{'item_id': '10', 'item_name': 'Counter-Strik...</td>\n",
       "    </tr>\n",
       "    <tr>\n",
       "      <th>1</th>\n",
       "      <td>js41637</td>\n",
       "      <td>888</td>\n",
       "      <td>76561198035864385</td>\n",
       "      <td>[{'item_id': '10', 'item_name': 'Counter-Strik...</td>\n",
       "    </tr>\n",
       "    <tr>\n",
       "      <th>2</th>\n",
       "      <td>evcentric</td>\n",
       "      <td>137</td>\n",
       "      <td>76561198007712555</td>\n",
       "      <td>[{'item_id': '1200', 'item_name': 'Red Orchest...</td>\n",
       "    </tr>\n",
       "  </tbody>\n",
       "</table>\n",
       "</div>"
      ],
      "text/plain": [
       "             user_id  items_count           steam_id  \\\n",
       "0  76561197970982479          277  76561197970982479   \n",
       "1            js41637          888  76561198035864385   \n",
       "2          evcentric          137  76561198007712555   \n",
       "\n",
       "                                               items  \n",
       "0  [{'item_id': '10', 'item_name': 'Counter-Strik...  \n",
       "1  [{'item_id': '10', 'item_name': 'Counter-Strik...  \n",
       "2  [{'item_id': '1200', 'item_name': 'Red Orchest...  "
      ]
     },
     "execution_count": 11,
     "metadata": {},
     "output_type": "execute_result"
    }
   ],
   "source": [
    "# Crea una lista vacía para almacenar las filas (diccionarios) de datos\n",
    "rows_items = []\n",
    "# Abre el archivo 'australian_users_items.json' para lectura\n",
    "with open('../datasets/australian_users_items.json', 'r', encoding='UTF-8') as items:\n",
    "    # Itera a través de las líneas del archivo\n",
    "    for line in items.readlines():\n",
    "        # Evalúa cada línea como una expresión de Python y agrega el resultado a la lista rows_items\n",
    "        rows_items.append(ast.literal_eval(line))\n",
    "\n",
    "# Crea un DataFrame de Pandas a partir de las filas (diccionarios) de datos\n",
    "users_items = pd.DataFrame(rows_items)\n",
    "\n",
    "# Elimina columna que no se considera necesaria\n",
    "users_items = users_items.drop(columns=['user_url'])\n",
    "\n",
    "users_items.head(3)"
   ]
  },
  {
   "cell_type": "code",
   "execution_count": 12,
   "metadata": {},
   "outputs": [
    {
     "data": {
      "text/html": [
       "<div>\n",
       "<style scoped>\n",
       "    .dataframe tbody tr th:only-of-type {\n",
       "        vertical-align: middle;\n",
       "    }\n",
       "\n",
       "    .dataframe tbody tr th {\n",
       "        vertical-align: top;\n",
       "    }\n",
       "\n",
       "    .dataframe thead th {\n",
       "        text-align: right;\n",
       "    }\n",
       "</style>\n",
       "<table border=\"1\" class=\"dataframe\">\n",
       "  <thead>\n",
       "    <tr style=\"text-align: right;\">\n",
       "      <th></th>\n",
       "      <th>user_id</th>\n",
       "      <th>steam_id</th>\n",
       "      <th>item_id</th>\n",
       "      <th>item_name</th>\n",
       "      <th>playtime_forever</th>\n",
       "      <th>playtime_2weeks</th>\n",
       "    </tr>\n",
       "  </thead>\n",
       "  <tbody>\n",
       "    <tr>\n",
       "      <th>0</th>\n",
       "      <td>76561197970982479</td>\n",
       "      <td>76561197970982479</td>\n",
       "      <td>10</td>\n",
       "      <td>Counter-Strike</td>\n",
       "      <td>6</td>\n",
       "      <td>0</td>\n",
       "    </tr>\n",
       "    <tr>\n",
       "      <th>1</th>\n",
       "      <td>76561197970982479</td>\n",
       "      <td>76561197970982479</td>\n",
       "      <td>20</td>\n",
       "      <td>Team Fortress Classic</td>\n",
       "      <td>0</td>\n",
       "      <td>0</td>\n",
       "    </tr>\n",
       "    <tr>\n",
       "      <th>2</th>\n",
       "      <td>76561197970982479</td>\n",
       "      <td>76561197970982479</td>\n",
       "      <td>30</td>\n",
       "      <td>Day of Defeat</td>\n",
       "      <td>7</td>\n",
       "      <td>0</td>\n",
       "    </tr>\n",
       "  </tbody>\n",
       "</table>\n",
       "</div>"
      ],
      "text/plain": [
       "             user_id           steam_id item_id              item_name  \\\n",
       "0  76561197970982479  76561197970982479      10         Counter-Strike   \n",
       "1  76561197970982479  76561197970982479      20  Team Fortress Classic   \n",
       "2  76561197970982479  76561197970982479      30          Day of Defeat   \n",
       "\n",
       "   playtime_forever  playtime_2weeks  \n",
       "0                 6                0  \n",
       "1                 0                0  \n",
       "2                 7                0  "
      ]
     },
     "execution_count": 12,
     "metadata": {},
     "output_type": "execute_result"
    }
   ],
   "source": [
    "# Lista vacia donde se van a guardar cada iteracion desanidad de reviews\n",
    "des_items = []\n",
    "\n",
    "# Entra a cada elemento de users_items\n",
    "for index, row in users_items.iterrows():\n",
    "    # Obtiene los valores de las columnas 'user_id', 'steam_id' y 'items' de la fila actual\n",
    "    user_id = row['user_id']\n",
    "    steam_id = row['steam_id']\n",
    "    items = row['items']\n",
    "\n",
    "    # Itera a través de la lista de ítems en la columna 'items'\n",
    "    for i in items:\n",
    "        # Crea un diccionario con los valores desanidados\n",
    "        items_desanidados = {\n",
    "            'user_id': user_id,\n",
    "            'steam_id': steam_id,\n",
    "            'item_id': i.get('item_id', ''), # Obtiene el valor de 'item_id'\n",
    "            'item_name': i.get('item_name',''), # Obtener el valor de 'item_name'\n",
    "            'playtime_forever': i.get('playtime_forever',''), # Obtener el valor de 'playtime_forever'\n",
    "            'playtime_2weeks': i.get('playtime_2weeks','') # Obtener el valor de 'playtime_2weeks'\n",
    "        }\n",
    "        # Agrega el diccionario a la lista des_items\n",
    "        des_items.append(items_desanidados)\n",
    "\n",
    "# Crea un nuevo DataFrame a partir de la lista des_items\n",
    "users_items = pd.DataFrame(des_items)\n",
    "\n",
    "users_items.head(3)"
   ]
  },
  {
   "cell_type": "code",
   "execution_count": 13,
   "metadata": {},
   "outputs": [],
   "source": [
    "# Elimina la columna 'steam_id'\n",
    "users_items = users_items.drop(columns='steam_id')"
   ]
  },
  {
   "cell_type": "code",
   "execution_count": 14,
   "metadata": {},
   "outputs": [],
   "source": [
    "# Filtra el DataFrame users_items para mantener solo las filas donde 'playtime_forever' no sea igual a 0\n",
    "users_items = users_items[users_items['playtime_forever'] != 0]"
   ]
  },
  {
   "cell_type": "code",
   "execution_count": 17,
   "metadata": {},
   "outputs": [],
   "source": [
    "# Elimina las filas del DataFrame steam_games que no se consideran necesarias\n",
    "users_items = users_items.iloc[:2250000]"
   ]
  },
  {
   "cell_type": "code",
   "execution_count": 18,
   "metadata": {},
   "outputs": [],
   "source": [
    "# Guarda el DataFrame users_items en un archivo Parquet\n",
    "users_items.to_csv(os.path.join('../datasets/', 'users_items.csv'), index=False)"
   ]
  }
 ],
 "metadata": {
  "kernelspec": {
   "display_name": "Python 3",
   "language": "python",
   "name": "python3"
  },
  "language_info": {
   "codemirror_mode": {
    "name": "ipython",
    "version": 3
   },
   "file_extension": ".py",
   "mimetype": "text/x-python",
   "name": "python",
   "nbconvert_exporter": "python",
   "pygments_lexer": "ipython3",
   "version": "3.10.7"
  },
  "orig_nbformat": 4
 },
 "nbformat": 4,
 "nbformat_minor": 2
}
