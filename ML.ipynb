{
 "cells": [
  {
   "cell_type": "code",
   "execution_count": 1,
   "metadata": {},
   "outputs": [],
   "source": [
    "import pandas as pd\n",
    "from sklearn.metrics.pairwise import cosine_similarity\n",
    "from sklearn.feature_extraction.text import TfidfVectorizer"
   ]
  },
  {
   "cell_type": "code",
   "execution_count": 2,
   "metadata": {},
   "outputs": [],
   "source": [
    "steam_games = pd.read_parquet('datasets/steam_games.parquet')\n",
    "users_items = pd.read_parquet('datasets/users_items.parquet')\n",
    "users_reviews = pd.read_parquet('datasets/users_reviews.parquet')"
   ]
  },
  {
   "cell_type": "code",
   "execution_count": 11,
   "metadata": {},
   "outputs": [],
   "source": [
    "muestra_steam_games_modelo = steam_games.head(20000)\n",
    "muestra_users_reviews_modelo = users_reviews.head(20000)"
   ]
  },
  {
   "cell_type": "code",
   "execution_count": 12,
   "metadata": {},
   "outputs": [],
   "source": [
    "def recomendacion_juego(game_id:int, top_n=5): #Creo la funcion que toma como parametros la id del juego en game_id y los otros son hiperparametros que defino\n",
    "    tfidf_vectorizer = TfidfVectorizer()\n",
    "\n",
    "    #Con esto los datos de la columna genero se transforman en vectores numericos para porder entrenarlos y luego los entreno\n",
    "    tfidf_matrix = tfidf_vectorizer.fit_transform(muestra_steam_games_modelo['genres'])\n",
    "\n",
    "    #Aca compara los cosenos de los vectores para encontrar similitudes\n",
    "    cosine_sim = cosine_similarity(tfidf_matrix, tfidf_matrix)\n",
    "    \n",
    "    # Busca el indice del juego del que ingrese el ID\n",
    "    idx = None\n",
    "    idx_list = muestra_steam_games_modelo.index[muestra_steam_games_modelo['item_id'] == game_id].tolist()\n",
    "    recommended_indices = []  # Inicializa como una lista vacía\n",
    "    if idx_list:\n",
    "        idx = idx_list[0]\n",
    "    # Continúa con el procesamiento\n",
    "    if idx is not None:\n",
    "    # No se encontró ninguna coincidencia, maneja esto adecuadamente\n",
    "        sim_scores = list(enumerate(cosine_sim[idx]))# Optiene la puntuacion de similitud de los cosenos\n",
    "        sim_scores = sorted(sim_scores, key=lambda x: x[1], reverse=True) # Ordena los juegos por la similitud\n",
    "        top_n = int(top_n)\n",
    "        recommended_indices = [i[0] for i in sim_scores[1:top_n+1]]  # Obtiene los indices de los juegos recomendados\n",
    "    return set(muestra_steam_games_modelo['item_name'].iloc[recommended_indices]) # Devuelve los titulos de los juegos recomendados"
   ]
  },
  {
   "cell_type": "code",
   "execution_count": 13,
   "metadata": {},
   "outputs": [],
   "source": [
    "def recomendacion_usuario(id:str):\n",
    "    aux = muestra_users_reviews_modelo[muestra_users_reviews_modelo['user_id'] == id]\n",
    "    aux.reset_index(drop=True, inplace=True)\n",
    "\n",
    "    if not aux.empty:  # Verifica si hay datos en 'aux'\n",
    "        game_id = aux['item_id'].iloc[0]  # Toma el 'item_id' del primer juego del usuario\n",
    "        recommended_games = recomendacion_juego(game_id=int(game_id))  # Llama a la función\n",
    "        return recommended_games  # Devuelve las recomendaciones\n",
    "    else:\n",
    "        return []  # Retorna una lista vacía si no se encontraron datos para ese usuario"
   ]
  },
  {
   "cell_type": "code",
   "execution_count": null,
   "metadata": {},
   "outputs": [],
   "source": [
    "recomendacion = recomendacion_usuario('evcentric')\n",
    "recomendacion"
   ]
  }
 ],
 "metadata": {
  "kernelspec": {
   "display_name": "Python 3",
   "language": "python",
   "name": "python3"
  },
  "language_info": {
   "codemirror_mode": {
    "name": "ipython",
    "version": 3
   },
   "file_extension": ".py",
   "mimetype": "text/x-python",
   "name": "python",
   "nbconvert_exporter": "python",
   "pygments_lexer": "ipython3",
   "version": "3.11.3"
  },
  "orig_nbformat": 4
 },
 "nbformat": 4,
 "nbformat_minor": 2
}
