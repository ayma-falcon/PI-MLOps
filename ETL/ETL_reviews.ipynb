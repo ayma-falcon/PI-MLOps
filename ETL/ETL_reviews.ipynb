{
 "cells": [
  {
   "cell_type": "code",
   "execution_count": 1,
   "metadata": {},
   "outputs": [],
   "source": [
    "# Importa las librerias necesarias\n",
    "import pandas as pd\n",
    "import ast\n",
    "import os\n",
    "from vaderSentiment.vaderSentiment import SentimentIntensityAnalyzer"
   ]
  },
  {
   "cell_type": "code",
   "execution_count": 2,
   "metadata": {},
   "outputs": [
    {
     "data": {
      "text/html": [
       "<div>\n",
       "<style scoped>\n",
       "    .dataframe tbody tr th:only-of-type {\n",
       "        vertical-align: middle;\n",
       "    }\n",
       "\n",
       "    .dataframe tbody tr th {\n",
       "        vertical-align: top;\n",
       "    }\n",
       "\n",
       "    .dataframe thead th {\n",
       "        text-align: right;\n",
       "    }\n",
       "</style>\n",
       "<table border=\"1\" class=\"dataframe\">\n",
       "  <thead>\n",
       "    <tr style=\"text-align: right;\">\n",
       "      <th></th>\n",
       "      <th>user_id</th>\n",
       "      <th>reviews</th>\n",
       "    </tr>\n",
       "  </thead>\n",
       "  <tbody>\n",
       "    <tr>\n",
       "      <th>0</th>\n",
       "      <td>76561197970982479</td>\n",
       "      <td>[{'funny': '', 'posted': 'Posted November 5, 2...</td>\n",
       "    </tr>\n",
       "    <tr>\n",
       "      <th>1</th>\n",
       "      <td>js41637</td>\n",
       "      <td>[{'funny': '', 'posted': 'Posted June 24, 2014...</td>\n",
       "    </tr>\n",
       "    <tr>\n",
       "      <th>2</th>\n",
       "      <td>evcentric</td>\n",
       "      <td>[{'funny': '', 'posted': 'Posted February 3.',...</td>\n",
       "    </tr>\n",
       "  </tbody>\n",
       "</table>\n",
       "</div>"
      ],
      "text/plain": [
       "             user_id                                            reviews\n",
       "0  76561197970982479  [{'funny': '', 'posted': 'Posted November 5, 2...\n",
       "1            js41637  [{'funny': '', 'posted': 'Posted June 24, 2014...\n",
       "2          evcentric  [{'funny': '', 'posted': 'Posted February 3.',..."
      ]
     },
     "execution_count": 2,
     "metadata": {},
     "output_type": "execute_result"
    }
   ],
   "source": [
    "# Crea una lista vacía para almacenar las filas (diccionarios) de datos\n",
    "rows_reviews = []\n",
    "# Abre el archivo 'australian_user_reviews.json' para lectura\n",
    "with open('../datasets/australian_user_reviews.json', 'r', encoding='UTF-8') as reviews:\n",
    "    # Itera a través de las líneas del archivo\n",
    "    for line in reviews.readlines():\n",
    "        # Evalúa cada línea como una expresión de Python y agrega el resultado a la lista rows_reviews\n",
    "        rows_reviews.append(ast.literal_eval(line))\n",
    "\n",
    "# Crea un DataFrame de Pandas a partir de las filas (diccionarios) de datos\n",
    "users_reviews = pd.DataFrame(rows_reviews)\n",
    "\n",
    "# Elimina columna que no se considera necesaria\n",
    "users_reviews = users_reviews.drop(columns=['user_url'])\n",
    "\n",
    "users_reviews.head(3)"
   ]
  },
  {
   "cell_type": "code",
   "execution_count": 3,
   "metadata": {},
   "outputs": [
    {
     "data": {
      "text/html": [
       "<div>\n",
       "<style scoped>\n",
       "    .dataframe tbody tr th:only-of-type {\n",
       "        vertical-align: middle;\n",
       "    }\n",
       "\n",
       "    .dataframe tbody tr th {\n",
       "        vertical-align: top;\n",
       "    }\n",
       "\n",
       "    .dataframe thead th {\n",
       "        text-align: right;\n",
       "    }\n",
       "</style>\n",
       "<table border=\"1\" class=\"dataframe\">\n",
       "  <thead>\n",
       "    <tr style=\"text-align: right;\">\n",
       "      <th></th>\n",
       "      <th>user_id</th>\n",
       "      <th>funny</th>\n",
       "      <th>posted</th>\n",
       "      <th>last_edited</th>\n",
       "      <th>item_id</th>\n",
       "      <th>helpful</th>\n",
       "      <th>recommend</th>\n",
       "      <th>review</th>\n",
       "    </tr>\n",
       "  </thead>\n",
       "  <tbody>\n",
       "    <tr>\n",
       "      <th>0</th>\n",
       "      <td>76561197970982479</td>\n",
       "      <td></td>\n",
       "      <td>Posted November 5, 2011.</td>\n",
       "      <td></td>\n",
       "      <td>1250</td>\n",
       "      <td>No ratings yet</td>\n",
       "      <td>True</td>\n",
       "      <td>Simple yet with great replayability. In my opi...</td>\n",
       "    </tr>\n",
       "    <tr>\n",
       "      <th>1</th>\n",
       "      <td>76561197970982479</td>\n",
       "      <td></td>\n",
       "      <td>Posted July 15, 2011.</td>\n",
       "      <td></td>\n",
       "      <td>22200</td>\n",
       "      <td>No ratings yet</td>\n",
       "      <td>True</td>\n",
       "      <td>It's unique and worth a playthrough.</td>\n",
       "    </tr>\n",
       "    <tr>\n",
       "      <th>2</th>\n",
       "      <td>76561197970982479</td>\n",
       "      <td></td>\n",
       "      <td>Posted April 21, 2011.</td>\n",
       "      <td></td>\n",
       "      <td>43110</td>\n",
       "      <td>No ratings yet</td>\n",
       "      <td>True</td>\n",
       "      <td>Great atmosphere. The gunplay can be a bit chu...</td>\n",
       "    </tr>\n",
       "  </tbody>\n",
       "</table>\n",
       "</div>"
      ],
      "text/plain": [
       "             user_id funny                    posted last_edited item_id  \\\n",
       "0  76561197970982479        Posted November 5, 2011.                1250   \n",
       "1  76561197970982479           Posted July 15, 2011.               22200   \n",
       "2  76561197970982479          Posted April 21, 2011.               43110   \n",
       "\n",
       "          helpful  recommend  \\\n",
       "0  No ratings yet       True   \n",
       "1  No ratings yet       True   \n",
       "2  No ratings yet       True   \n",
       "\n",
       "                                              review  \n",
       "0  Simple yet with great replayability. In my opi...  \n",
       "1               It's unique and worth a playthrough.  \n",
       "2  Great atmosphere. The gunplay can be a bit chu...  "
      ]
     },
     "execution_count": 3,
     "metadata": {},
     "output_type": "execute_result"
    }
   ],
   "source": [
    "# Lista vacia donde se van a guardar cada iteracion desanidad de reviews\n",
    "des_reviews = []\n",
    "\n",
    "# Entra a cada elemento de users_reviews\n",
    "for index, row in users_reviews.iterrows():\n",
    "    # Obtiene los valores de las columnas 'user_id' y 'reviews'\n",
    "    user_id = row['user_id']\n",
    "    reviews = row['reviews']\n",
    "\n",
    "    # Itera a través de la lista de ítems en la columna 'reviews'\n",
    "    for r in reviews:\n",
    "        # Crea un diccionario con los valores desanidados\n",
    "        reviews_desanidados = {\n",
    "            'user_id': user_id,\n",
    "            'funny': r.get('funny', ''), # Obtiene el valor de 'funny'\n",
    "            'posted': r.get('posted',''), # Obtiene el valor de 'posted'\n",
    "            'last_edited': r.get('last_edited',''), # Obtiene el valor de 'last_edited'\n",
    "            'item_id': r.get('item_id',''), # Obtiene el valor de 'item_id'\n",
    "            'helpful': r.get('helpful',''), # Obtiene el valor de 'helpful'\n",
    "            'recommend': r.get('recommend',bool), # Obtiene el valor de 'recommend'\n",
    "            'review': r.get('review','') # Obtiene el valor de 'review'\n",
    "        }\n",
    "        # Agrega el diccionario a la lista des_reviews        \n",
    "        des_reviews.append(reviews_desanidados)\n",
    "\n",
    "# Crea un nuevo DataFrame a partir de la lista des_reviews\n",
    "users_reviews = pd.DataFrame(des_reviews)\n",
    "\n",
    "users_reviews.head(3)"
   ]
  },
  {
   "cell_type": "code",
   "execution_count": 4,
   "metadata": {},
   "outputs": [
    {
     "data": {
      "text/plain": [
       "funny\n",
       "                                        51154\n",
       "1 person found this review funny         5180\n",
       "2 people found this review funny         1232\n",
       "3 people found this review funny          491\n",
       "4 people found this review funny          267\n",
       "                                        ...  \n",
       "58 people found this review funny           1\n",
       "405 people found this review funny          1\n",
       "105 people found this review funny          1\n",
       "1,130 people found this review funny        1\n",
       "825 people found this review funny          1\n",
       "Name: count, Length: 186, dtype: int64"
      ]
     },
     "execution_count": 4,
     "metadata": {},
     "output_type": "execute_result"
    }
   ],
   "source": [
    "# Muestra la cantidad de cada valor de la columna funny\n",
    "users_reviews['funny'].value_counts()"
   ]
  },
  {
   "cell_type": "code",
   "execution_count": 5,
   "metadata": {},
   "outputs": [
    {
     "data": {
      "text/plain": [
       "last_edited\n",
       "                                  53165\n",
       "Last edited November 25, 2013.       99\n",
       "Last edited October 17, 2015.        19\n",
       "Last edited June 6, 2015.            18\n",
       "Last edited January 3.               17\n",
       "                                  ...  \n",
       "Last edited May 30, 2015.             1\n",
       "Last edited May 21, 2015.             1\n",
       "Last edited February 11, 2014.        1\n",
       "Last edited May 8, 2014.              1\n",
       "Last edited August 15, 2014.          1\n",
       "Name: count, Length: 1015, dtype: int64"
      ]
     },
     "execution_count": 5,
     "metadata": {},
     "output_type": "execute_result"
    }
   ],
   "source": [
    "# Muestra la cantidad de cada valor de la columna last_edited\n",
    "users_reviews['last_edited'].value_counts()"
   ]
  },
  {
   "cell_type": "code",
   "execution_count": 6,
   "metadata": {},
   "outputs": [
    {
     "data": {
      "text/plain": [
       "helpful\n",
       "No ratings yet                                     30168\n",
       "1 of 1 people (100%) found this review helpful      6730\n",
       "0 of 1 people (0%) found this review helpful        4024\n",
       "1 of 2 people (50%) found this review helpful       2493\n",
       "2 of 2 people (100%) found this review helpful      1872\n",
       "                                                   ...  \n",
       "73 of 96 people (76%) found this review helpful        1\n",
       "12 of 31 people (39%) found this review helpful        1\n",
       "12 of 53 people (23%) found this review helpful        1\n",
       "17 of 37 people (46%) found this review helpful        1\n",
       "24 of 34 people (71%) found this review helpful        1\n",
       "Name: count, Length: 1344, dtype: int64"
      ]
     },
     "execution_count": 6,
     "metadata": {},
     "output_type": "execute_result"
    }
   ],
   "source": [
    "# Muestra la cantidad de cada valor de la columna helpful\n",
    "users_reviews['helpful'].value_counts()"
   ]
  },
  {
   "cell_type": "code",
   "execution_count": 7,
   "metadata": {},
   "outputs": [],
   "source": [
    "# Elimina las columnas del DataFrame\n",
    "users_reviews = users_reviews.drop(columns=['funny','last_edited','helpful'])"
   ]
  },
  {
   "cell_type": "code",
   "execution_count": 8,
   "metadata": {},
   "outputs": [
    {
     "data": {
      "text/html": [
       "<div>\n",
       "<style scoped>\n",
       "    .dataframe tbody tr th:only-of-type {\n",
       "        vertical-align: middle;\n",
       "    }\n",
       "\n",
       "    .dataframe tbody tr th {\n",
       "        vertical-align: top;\n",
       "    }\n",
       "\n",
       "    .dataframe thead th {\n",
       "        text-align: right;\n",
       "    }\n",
       "</style>\n",
       "<table border=\"1\" class=\"dataframe\">\n",
       "  <thead>\n",
       "    <tr style=\"text-align: right;\">\n",
       "      <th></th>\n",
       "      <th>user_id</th>\n",
       "      <th>posted</th>\n",
       "      <th>item_id</th>\n",
       "      <th>recommend</th>\n",
       "      <th>sentiment_analysis</th>\n",
       "    </tr>\n",
       "  </thead>\n",
       "  <tbody>\n",
       "    <tr>\n",
       "      <th>0</th>\n",
       "      <td>76561197970982479</td>\n",
       "      <td>Posted November 5, 2011.</td>\n",
       "      <td>1250</td>\n",
       "      <td>True</td>\n",
       "      <td>2</td>\n",
       "    </tr>\n",
       "    <tr>\n",
       "      <th>1</th>\n",
       "      <td>76561197970982479</td>\n",
       "      <td>Posted July 15, 2011.</td>\n",
       "      <td>22200</td>\n",
       "      <td>True</td>\n",
       "      <td>2</td>\n",
       "    </tr>\n",
       "    <tr>\n",
       "      <th>2</th>\n",
       "      <td>76561197970982479</td>\n",
       "      <td>Posted April 21, 2011.</td>\n",
       "      <td>43110</td>\n",
       "      <td>True</td>\n",
       "      <td>2</td>\n",
       "    </tr>\n",
       "  </tbody>\n",
       "</table>\n",
       "</div>"
      ],
      "text/plain": [
       "             user_id                    posted item_id  recommend  \\\n",
       "0  76561197970982479  Posted November 5, 2011.    1250       True   \n",
       "1  76561197970982479     Posted July 15, 2011.   22200       True   \n",
       "2  76561197970982479    Posted April 21, 2011.   43110       True   \n",
       "\n",
       "   sentiment_analysis  \n",
       "0                   2  \n",
       "1                   2  \n",
       "2                   2  "
      ]
     },
     "execution_count": 8,
     "metadata": {},
     "output_type": "execute_result"
    }
   ],
   "source": [
    "# Crea una instancia del analizador de sentimientos VADER\n",
    "analyzer = SentimentIntensityAnalyzer()\n",
    "\n",
    "# Crea una función para asignar valores numéricos al sentimiento\n",
    "def assign_sentiment(row):\n",
    "    # Clasifica como neutral si no hay reseña o está vacía\n",
    "    if pd.isnull(row['review']) or not row['review']:\n",
    "        return 1  \n",
    "\n",
    "    # Calcula el puntaje de sentimiento de la revisión\n",
    "    sentiment_score = analyzer.polarity_scores(row['review'])\n",
    "\n",
    "    # Positivo\n",
    "    if sentiment_score['compound'] >= 0.05:\n",
    "        return 2\n",
    "    # Malo\n",
    "    elif sentiment_score['compound'] <= -0.05:\n",
    "        return 0\n",
    "    # Neutral\n",
    "    else:\n",
    "        return 1\n",
    "\n",
    "# Crea una nueva columna \"sentiment_analysis\" usando la función\n",
    "users_reviews['sentiment_analysis'] = users_reviews.apply(assign_sentiment, axis=1)\n",
    "\n",
    "# Elimina la columna review\n",
    "users_reviews = users_reviews.drop(columns=['review'])\n",
    "\n",
    "users_reviews.head(3)"
   ]
  },
  {
   "cell_type": "code",
   "execution_count": 9,
   "metadata": {},
   "outputs": [
    {
     "data": {
      "text/html": [
       "<div>\n",
       "<style scoped>\n",
       "    .dataframe tbody tr th:only-of-type {\n",
       "        vertical-align: middle;\n",
       "    }\n",
       "\n",
       "    .dataframe tbody tr th {\n",
       "        vertical-align: top;\n",
       "    }\n",
       "\n",
       "    .dataframe thead th {\n",
       "        text-align: right;\n",
       "    }\n",
       "</style>\n",
       "<table border=\"1\" class=\"dataframe\">\n",
       "  <thead>\n",
       "    <tr style=\"text-align: right;\">\n",
       "      <th></th>\n",
       "      <th>user_id</th>\n",
       "      <th>item_id</th>\n",
       "      <th>recommend</th>\n",
       "      <th>sentiment_analysis</th>\n",
       "      <th>posted_year</th>\n",
       "    </tr>\n",
       "  </thead>\n",
       "  <tbody>\n",
       "    <tr>\n",
       "      <th>0</th>\n",
       "      <td>76561197970982479</td>\n",
       "      <td>1250</td>\n",
       "      <td>True</td>\n",
       "      <td>2</td>\n",
       "      <td>2011</td>\n",
       "    </tr>\n",
       "    <tr>\n",
       "      <th>1</th>\n",
       "      <td>76561197970982479</td>\n",
       "      <td>22200</td>\n",
       "      <td>True</td>\n",
       "      <td>2</td>\n",
       "      <td>2011</td>\n",
       "    </tr>\n",
       "  </tbody>\n",
       "</table>\n",
       "</div>"
      ],
      "text/plain": [
       "             user_id item_id  recommend  sentiment_analysis posted_year\n",
       "0  76561197970982479    1250       True                   2        2011\n",
       "1  76561197970982479   22200       True                   2        2011"
      ]
     },
     "execution_count": 9,
     "metadata": {},
     "output_type": "execute_result"
    }
   ],
   "source": [
    "# Reconoce la columna como str para no tirar error de atributo\n",
    "users_reviews['posted'] = users_reviews['posted'].astype(str)\n",
    "# Extrae el año de la columna 'posted' y lo almacena en 'posted_year'\n",
    "users_reviews['posted_year'] = users_reviews['posted'].str.extract(r'(\\d{4})')\n",
    "# Elimina la columna 'posted'\n",
    "users_reviews = users_reviews.drop(columns=['posted'])\n",
    "\n",
    "users_reviews.head(2)"
   ]
  },
  {
   "cell_type": "code",
   "execution_count": 10,
   "metadata": {},
   "outputs": [
    {
     "data": {
      "text/plain": [
       "user_id                   0\n",
       "item_id                   0\n",
       "recommend                 0\n",
       "sentiment_analysis        0\n",
       "posted_year           10119\n",
       "dtype: int64"
      ]
     },
     "execution_count": 10,
     "metadata": {},
     "output_type": "execute_result"
    }
   ],
   "source": [
    "# Devuelve la cantidad de nulos que se encuentran en cada columna del Dataframe\n",
    "users_reviews.isnull().sum()"
   ]
  },
  {
   "cell_type": "code",
   "execution_count": 11,
   "metadata": {},
   "outputs": [],
   "source": [
    "# Llena los valores nulos en \"posted_year\" con la moda\n",
    "users_reviews['posted_year'] = users_reviews['posted_year'].fillna(users_reviews['posted_year'].mode().iloc[0])"
   ]
  },
  {
   "cell_type": "code",
   "execution_count": 12,
   "metadata": {},
   "outputs": [],
   "source": [
    "# Reconoce la columna como bool para no tirar error en la parte de EDA\n",
    "users_reviews['recommend'] = users_reviews['recommend'].astype(bool)"
   ]
  },
  {
   "cell_type": "code",
   "execution_count": 13,
   "metadata": {},
   "outputs": [],
   "source": [
    "# Guarda el DataFrame users_reviews en un archivo Parquet\n",
    "users_reviews.to_parquet(os.path.join('../datasets/', 'users_reviews.parquet'), index=False)"
   ]
  }
 ],
 "metadata": {
  "kernelspec": {
   "display_name": "Python 3",
   "language": "python",
   "name": "python3"
  },
  "language_info": {
   "codemirror_mode": {
    "name": "ipython",
    "version": 3
   },
   "file_extension": ".py",
   "mimetype": "text/x-python",
   "name": "python",
   "nbconvert_exporter": "python",
   "pygments_lexer": "ipython3",
   "version": "3.10.7"
  },
  "orig_nbformat": 4
 },
 "nbformat": 4,
 "nbformat_minor": 2
}
